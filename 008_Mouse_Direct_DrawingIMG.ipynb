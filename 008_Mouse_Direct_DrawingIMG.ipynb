{
 "cells": [
  {
   "cell_type": "code",
   "execution_count": 8,
   "metadata": {},
   "outputs": [],
   "source": [
    "import cv2\n",
    "import numpy as np\n",
    "\n",
    "#################\n",
    "##  FUNCTION   ##\n",
    "#################\n",
    "\n",
    "\n",
    "def draw_cicle(event,x,y,flags,param):\n",
    "    \n",
    "    if event == cv2.EVENT_LBUTTONDOWN:\n",
    "        cv2.circle(img,(x,y),100,(0,255,0),-1)\n",
    "\n",
    "cv2.namedWindow(winname=\"Test\")\n",
    "\n",
    "cv2.setMouseCallback(\"Test\",draw_cicle)\n",
    "\n",
    "\n",
    "\n",
    "###############################\n",
    "## SHOWING IMAGE WITH OPENCV ##\n",
    "###############################\n",
    "\n",
    "img = np.zeros((512,512,3),np.int8)\n",
    "\n",
    "while True:\n",
    "    \n",
    "    cv2.imshow(\"Test\",img)\n",
    "    \n",
    "    if cv2.waitKey(20) & 0xFF == 27: #esc KEy\n",
    "        break\n",
    "        \n",
    "cv2.destroyAllWindows()"
   ]
  },
  {
   "cell_type": "code",
   "execution_count": null,
   "metadata": {},
   "outputs": [],
   "source": []
  }
 ],
 "metadata": {
  "kernelspec": {
   "display_name": "Python 3",
   "language": "python",
   "name": "python3"
  },
  "language_info": {
   "codemirror_mode": {
    "name": "ipython",
    "version": 3
   },
   "file_extension": ".py",
   "mimetype": "text/x-python",
   "name": "python",
   "nbconvert_exporter": "python",
   "pygments_lexer": "ipython3",
   "version": "3.8.3"
  }
 },
 "nbformat": 4,
 "nbformat_minor": 4
}
