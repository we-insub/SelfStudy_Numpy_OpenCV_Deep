{
  "nbformat": 4,
  "nbformat_minor": 0,
  "metadata": {
    "colab": {
      "name": "001_Numpy_Arr.ipynb",
      "provenance": [],
      "collapsed_sections": []
    },
    "kernelspec": {
      "name": "python3",
      "display_name": "Python 3"
    }
  },
  "cells": [
    {
      "cell_type": "code",
      "metadata": {
        "id": "jajk-0XTouhj"
      },
      "source": [
        "import numpy as np"
      ],
      "execution_count": 1,
      "outputs": []
    },
    {
      "cell_type": "code",
      "metadata": {
        "id": "84_nEuf9oykm"
      },
      "source": [
        "mylist = [1,2,3]"
      ],
      "execution_count": 2,
      "outputs": []
    },
    {
      "cell_type": "code",
      "metadata": {
        "colab": {
          "base_uri": "https://localhost:8080/"
        },
        "id": "3BeLybhRozuK",
        "outputId": "90b43be3-815f-412c-95a8-72ba580459f2"
      },
      "source": [
        "type(mylist)"
      ],
      "execution_count": 3,
      "outputs": [
        {
          "output_type": "execute_result",
          "data": {
            "text/plain": [
              "list"
            ]
          },
          "metadata": {
            "tags": []
          },
          "execution_count": 3
        }
      ]
    },
    {
      "cell_type": "code",
      "metadata": {
        "colab": {
          "base_uri": "https://localhost:8080/"
        },
        "id": "Z_rbwEhdo2MZ",
        "outputId": "a302c7f9-f534-49f6-8b08-dc1edd6247f7"
      },
      "source": [
        "np.array(mylist) #내 리스트를 전달하여 배열로 캐스팅 하는것 , 출력 결과는 객채로 변환된다"
      ],
      "execution_count": 4,
      "outputs": [
        {
          "output_type": "execute_result",
          "data": {
            "text/plain": [
              "array([1, 2, 3])"
            ]
          },
          "metadata": {
            "tags": []
          },
          "execution_count": 4
        }
      ]
    },
    {
      "cell_type": "code",
      "metadata": {
        "id": "cA0zLhTTo34P"
      },
      "source": [
        "myarray = np.array(mylist) "
      ],
      "execution_count": 5,
      "outputs": []
    },
    {
      "cell_type": "code",
      "metadata": {
        "colab": {
          "base_uri": "https://localhost:8080/"
        },
        "id": "3DMe3iJCpRl3",
        "outputId": "79ca1d3b-5446-45ae-c426-1339811178ab"
      },
      "source": [
        "type(myarray) # 다른 차원의 배열을 받아들일수 있다는것"
      ],
      "execution_count": 6,
      "outputs": [
        {
          "output_type": "execute_result",
          "data": {
            "text/plain": [
              "numpy.ndarray"
            ]
          },
          "metadata": {
            "tags": []
          },
          "execution_count": 6
        }
      ]
    },
    {
      "cell_type": "code",
      "metadata": {
        "colab": {
          "base_uri": "https://localhost:8080/"
        },
        "id": "jLyl73snpVkA",
        "outputId": "dc8640a5-7b71-40f8-e772-5423f9d7380c"
      },
      "source": [
        "np.arange(0,10) # 주어진 간격 내에서균일한 간격의 값을 반환합니다. 시작과 중지 선택적 단계 크기를 제공"
      ],
      "execution_count": 7,
      "outputs": [
        {
          "output_type": "execute_result",
          "data": {
            "text/plain": [
              "array([0, 1, 2, 3, 4, 5, 6, 7, 8, 9])"
            ]
          },
          "metadata": {
            "tags": []
          },
          "execution_count": 7
        }
      ]
    },
    {
      "cell_type": "code",
      "metadata": {
        "colab": {
          "base_uri": "https://localhost:8080/"
        },
        "id": "q5FroknZp6VN",
        "outputId": "e90bdce6-7835-4583-8084-6e952a2b2f60"
      },
      "source": [
        "np.arange(0,10,2)  # 0 ~ 9 까지 2의 배수"
      ],
      "execution_count": 8,
      "outputs": [
        {
          "output_type": "execute_result",
          "data": {
            "text/plain": [
              "array([0, 2, 4, 6, 8])"
            ]
          },
          "metadata": {
            "tags": []
          },
          "execution_count": 8
        }
      ]
    },
    {
      "cell_type": "code",
      "metadata": {
        "colab": {
          "base_uri": "https://localhost:8080/"
        },
        "id": "cC_BUANiqA8s",
        "outputId": "4e616642-2ce9-41cf-96fc-5cfd71a915be"
      },
      "source": [
        "np.zeros(shape=(10,5)) # 10행 5열짜리 배열만들기  여기서 0 은 정수"
      ],
      "execution_count": 10,
      "outputs": [
        {
          "output_type": "execute_result",
          "data": {
            "text/plain": [
              "array([[0., 0., 0., 0., 0.],\n",
              "       [0., 0., 0., 0., 0.],\n",
              "       [0., 0., 0., 0., 0.],\n",
              "       [0., 0., 0., 0., 0.],\n",
              "       [0., 0., 0., 0., 0.],\n",
              "       [0., 0., 0., 0., 0.],\n",
              "       [0., 0., 0., 0., 0.],\n",
              "       [0., 0., 0., 0., 0.],\n",
              "       [0., 0., 0., 0., 0.],\n",
              "       [0., 0., 0., 0., 0.]])"
            ]
          },
          "metadata": {
            "tags": []
          },
          "execution_count": 10
        }
      ]
    },
    {
      "cell_type": "code",
      "metadata": {
        "colab": {
          "base_uri": "https://localhost:8080/"
        },
        "id": "492fuylEqMAB",
        "outputId": "bdaaeabd-d64d-4a62-eb60-fda5a8611783"
      },
      "source": [
        "type(0) # 0 은인트형  "
      ],
      "execution_count": 11,
      "outputs": [
        {
          "output_type": "execute_result",
          "data": {
            "text/plain": [
              "int"
            ]
          },
          "metadata": {
            "tags": []
          },
          "execution_count": 11
        }
      ]
    },
    {
      "cell_type": "code",
      "metadata": {
        "colab": {
          "base_uri": "https://localhost:8080/"
        },
        "id": "doT8TY_-qh2S",
        "outputId": "8fb83314-e371-4502-dc4f-a9640025387b"
      },
      "source": [
        "type(0.0) # 0.0 은 플롯 배열이라 그럼"
      ],
      "execution_count": 13,
      "outputs": [
        {
          "output_type": "execute_result",
          "data": {
            "text/plain": [
              "float"
            ]
          },
          "metadata": {
            "tags": []
          },
          "execution_count": 13
        }
      ]
    },
    {
      "cell_type": "code",
      "metadata": {
        "colab": {
          "base_uri": "https://localhost:8080/"
        },
        "id": "BG8gPcyBqiqP",
        "outputId": "8d7cea4d-b1ef-429a-d7a7-4ecadf66591f"
      },
      "source": [
        "np.ones(shape=(2,4)) # 2,4 짜리 만듬 매개 변수를 선언할 필요가없다."
      ],
      "execution_count": 14,
      "outputs": [
        {
          "output_type": "execute_result",
          "data": {
            "text/plain": [
              "array([[1., 1., 1., 1.],\n",
              "       [1., 1., 1., 1.]])"
            ]
          },
          "metadata": {
            "tags": []
          },
          "execution_count": 14
        }
      ]
    },
    {
      "cell_type": "code",
      "metadata": {
        "id": "vdqoHspDqwQT"
      },
      "source": [
        "#################### "
      ],
      "execution_count": null,
      "outputs": []
    },
    {
      "cell_type": "code",
      "metadata": {
        "id": "QC_tc7xzq86U"
      },
      "source": [
        "np.random.seed(101)\r\n",
        "arr = np.random.randint(0,100,10) # 0~100 까지의 난수 10개"
      ],
      "execution_count": 20,
      "outputs": []
    },
    {
      "cell_type": "code",
      "metadata": {
        "colab": {
          "base_uri": "https://localhost:8080/"
        },
        "id": "qXYPQqrYrP6J",
        "outputId": "7512fe64-7df2-453e-ffa2-c9f927c61c67"
      },
      "source": [
        "arr"
      ],
      "execution_count": 21,
      "outputs": [
        {
          "output_type": "execute_result",
          "data": {
            "text/plain": [
              "array([95, 11, 81, 70, 63, 87, 75,  9, 77, 40])"
            ]
          },
          "metadata": {
            "tags": []
          },
          "execution_count": 21
        }
      ]
    },
    {
      "cell_type": "code",
      "metadata": {
        "id": "dGNmNq5wrt29"
      },
      "source": [
        "arr2 = np.random.randint(0,100,10)"
      ],
      "execution_count": 22,
      "outputs": []
    },
    {
      "cell_type": "code",
      "metadata": {
        "colab": {
          "base_uri": "https://localhost:8080/"
        },
        "id": "vEqKEIPtr1HM",
        "outputId": "4cb132ed-e7ec-4fcb-bd0d-bc9c7b6c5840"
      },
      "source": [
        "arr2"
      ],
      "execution_count": 23,
      "outputs": [
        {
          "output_type": "execute_result",
          "data": {
            "text/plain": [
              "array([ 4, 63, 40, 60, 92, 64,  5, 12, 93, 40])"
            ]
          },
          "metadata": {
            "tags": []
          },
          "execution_count": 23
        }
      ]
    },
    {
      "cell_type": "code",
      "metadata": {
        "colab": {
          "base_uri": "https://localhost:8080/"
        },
        "id": "pruPZGG6r1r_",
        "outputId": "692b6003-b10d-46b7-c11c-3135bf575dd3"
      },
      "source": [
        "arr.max() # 최대값 알아보기"
      ],
      "execution_count": 24,
      "outputs": [
        {
          "output_type": "execute_result",
          "data": {
            "text/plain": [
              "95"
            ]
          },
          "metadata": {
            "tags": []
          },
          "execution_count": 24
        }
      ]
    },
    {
      "cell_type": "code",
      "metadata": {
        "colab": {
          "base_uri": "https://localhost:8080/"
        },
        "id": "0vMMdXG-r7Mc",
        "outputId": "5d548239-cfbf-4d4f-a3ec-a9cc464e589c"
      },
      "source": [
        "arr.argmax() # 최대값의 위치를 알아봄"
      ],
      "execution_count": 25,
      "outputs": [
        {
          "output_type": "execute_result",
          "data": {
            "text/plain": [
              "0"
            ]
          },
          "metadata": {
            "tags": []
          },
          "execution_count": 25
        }
      ]
    },
    {
      "cell_type": "code",
      "metadata": {
        "colab": {
          "base_uri": "https://localhost:8080/"
        },
        "id": "mIt5VxXtsClv",
        "outputId": "ac45f46a-0866-423b-87b5-4db996101730"
      },
      "source": [
        "arr.min() #최소값"
      ],
      "execution_count": 26,
      "outputs": [
        {
          "output_type": "execute_result",
          "data": {
            "text/plain": [
              "9"
            ]
          },
          "metadata": {
            "tags": []
          },
          "execution_count": 26
        }
      ]
    },
    {
      "cell_type": "code",
      "metadata": {
        "colab": {
          "base_uri": "https://localhost:8080/"
        },
        "id": "Imho2HrNsJpZ",
        "outputId": "60d437f2-da7d-4403-bbae-2e5ef749731b"
      },
      "source": [
        "arr.argmin() #최소값의 인덱스"
      ],
      "execution_count": 27,
      "outputs": [
        {
          "output_type": "execute_result",
          "data": {
            "text/plain": [
              "7"
            ]
          },
          "metadata": {
            "tags": []
          },
          "execution_count": 27
        }
      ]
    },
    {
      "cell_type": "code",
      "metadata": {
        "colab": {
          "base_uri": "https://localhost:8080/"
        },
        "id": "wLCO8vCLsMga",
        "outputId": "46923535-2561-4389-f699-e7f87dbfdf88"
      },
      "source": [
        "arr.mean() # 어레이 평균값  "
      ],
      "execution_count": 28,
      "outputs": [
        {
          "output_type": "execute_result",
          "data": {
            "text/plain": [
              "60.8"
            ]
          },
          "metadata": {
            "tags": []
          },
          "execution_count": 28
        }
      ]
    },
    {
      "cell_type": "code",
      "metadata": {
        "colab": {
          "base_uri": "https://localhost:8080/"
        },
        "id": "jdzJNCnFsPzL",
        "outputId": "f17f7bcb-4312-4e9d-dc65-2a30f52f12ee"
      },
      "source": [
        "arr.reshape((2,5)) # 2,5 행 열로 나눠서 배열 다시하기"
      ],
      "execution_count": 31,
      "outputs": [
        {
          "output_type": "execute_result",
          "data": {
            "text/plain": [
              "array([[95, 11, 81, 70, 63],\n",
              "       [87, 75,  9, 77, 40]])"
            ]
          },
          "metadata": {
            "tags": []
          },
          "execution_count": 31
        }
      ]
    },
    {
      "cell_type": "code",
      "metadata": {
        "id": "xVdNgm-2sThs"
      },
      "source": [
        "#################### 인덱싱"
      ],
      "execution_count": 32,
      "outputs": []
    },
    {
      "cell_type": "code",
      "metadata": {
        "id": "JPrkl6XusuzM"
      },
      "source": [
        "mat = np.arange(0,100).reshape(10,10)"
      ],
      "execution_count": 34,
      "outputs": []
    },
    {
      "cell_type": "code",
      "metadata": {
        "colab": {
          "base_uri": "https://localhost:8080/"
        },
        "id": "SDqWk8tjsyGm",
        "outputId": "fe189118-e018-485e-a4b6-ffdef9712cb7"
      },
      "source": [
        "mat"
      ],
      "execution_count": 35,
      "outputs": [
        {
          "output_type": "execute_result",
          "data": {
            "text/plain": [
              "array([[ 0,  1,  2,  3,  4,  5,  6,  7,  8,  9],\n",
              "       [10, 11, 12, 13, 14, 15, 16, 17, 18, 19],\n",
              "       [20, 21, 22, 23, 24, 25, 26, 27, 28, 29],\n",
              "       [30, 31, 32, 33, 34, 35, 36, 37, 38, 39],\n",
              "       [40, 41, 42, 43, 44, 45, 46, 47, 48, 49],\n",
              "       [50, 51, 52, 53, 54, 55, 56, 57, 58, 59],\n",
              "       [60, 61, 62, 63, 64, 65, 66, 67, 68, 69],\n",
              "       [70, 71, 72, 73, 74, 75, 76, 77, 78, 79],\n",
              "       [80, 81, 82, 83, 84, 85, 86, 87, 88, 89],\n",
              "       [90, 91, 92, 93, 94, 95, 96, 97, 98, 99]])"
            ]
          },
          "metadata": {
            "tags": []
          },
          "execution_count": 35
        }
      ]
    },
    {
      "cell_type": "code",
      "metadata": {
        "id": "tXqndUAts0lz"
      },
      "source": [
        "row = 0 \r\n",
        "col = 1 # 행 열 설정"
      ],
      "execution_count": 37,
      "outputs": []
    },
    {
      "cell_type": "code",
      "metadata": {
        "colab": {
          "base_uri": "https://localhost:8080/"
        },
        "id": "XH5y4FozvQXA",
        "outputId": "d35833c9-2670-427b-de68-9d9a3c975bd2"
      },
      "source": [
        "mat[row,col] # "
      ],
      "execution_count": 39,
      "outputs": [
        {
          "output_type": "execute_result",
          "data": {
            "text/plain": [
              "1"
            ]
          },
          "metadata": {
            "tags": []
          },
          "execution_count": 39
        }
      ]
    },
    {
      "cell_type": "code",
      "metadata": {
        "colab": {
          "base_uri": "https://localhost:8080/"
        },
        "id": "65QRffgvvYvD",
        "outputId": "662ad6e1-9914-4019-bd7c-c424391fba41"
      },
      "source": [
        "mat[4,6] # 46을 프린트 하기위함 행 열에서 직접 호출이 가능"
      ],
      "execution_count": 40,
      "outputs": [
        {
          "output_type": "execute_result",
          "data": {
            "text/plain": [
              "46"
            ]
          },
          "metadata": {
            "tags": []
          },
          "execution_count": 40
        }
      ]
    },
    {
      "cell_type": "code",
      "metadata": {
        "id": "mIP_zXTovqv2"
      },
      "source": [
        "#행의 모든 항목 또는 열의 모든 항목을 가져오기"
      ],
      "execution_count": 41,
      "outputs": []
    },
    {
      "cell_type": "code",
      "metadata": {
        "colab": {
          "base_uri": "https://localhost:8080/"
        },
        "id": "iBhdg-g-v0Tv",
        "outputId": "f432b762-c9e3-4f30-c7b0-89a83763df3f"
      },
      "source": [
        "mat[:,1]"
      ],
      "execution_count": 43,
      "outputs": [
        {
          "output_type": "execute_result",
          "data": {
            "text/plain": [
              "array([ 1, 11, 21, 31, 41, 51, 61, 71, 81, 91])"
            ]
          },
          "metadata": {
            "tags": []
          },
          "execution_count": 43
        }
      ]
    },
    {
      "cell_type": "code",
      "metadata": {
        "colab": {
          "base_uri": "https://localhost:8080/"
        },
        "id": "0uUMN6q9v113",
        "outputId": "98f7e762-a5da-439c-d169-45139a60bee7"
      },
      "source": [
        "mat[:,1].reshape(1,10)"
      ],
      "execution_count": 47,
      "outputs": [
        {
          "output_type": "execute_result",
          "data": {
            "text/plain": [
              "array([[ 1, 11, 21, 31, 41, 51, 61, 71, 81, 91]])"
            ]
          },
          "metadata": {
            "tags": []
          },
          "execution_count": 47
        }
      ]
    },
    {
      "cell_type": "code",
      "metadata": {
        "colab": {
          "base_uri": "https://localhost:8080/"
        },
        "id": "rqNAUByWv4ay",
        "outputId": "0035cedc-66b7-48bf-d8c7-b864e2aed970"
      },
      "source": [
        "mat[:,1].reshape(10,1)"
      ],
      "execution_count": 48,
      "outputs": [
        {
          "output_type": "execute_result",
          "data": {
            "text/plain": [
              "array([[ 1],\n",
              "       [11],\n",
              "       [21],\n",
              "       [31],\n",
              "       [41],\n",
              "       [51],\n",
              "       [61],\n",
              "       [71],\n",
              "       [81],\n",
              "       [91]])"
            ]
          },
          "metadata": {
            "tags": []
          },
          "execution_count": 48
        }
      ]
    },
    {
      "cell_type": "code",
      "metadata": {
        "colab": {
          "base_uri": "https://localhost:8080/"
        },
        "id": "Rwe4zRIHv67W",
        "outputId": "9a269849-75ee-40eb-bd03-df7273bd7add"
      },
      "source": [
        "mat[2,:]"
      ],
      "execution_count": 49,
      "outputs": [
        {
          "output_type": "execute_result",
          "data": {
            "text/plain": [
              "array([20, 21, 22, 23, 24, 25, 26, 27, 28, 29])"
            ]
          },
          "metadata": {
            "tags": []
          },
          "execution_count": 49
        }
      ]
    },
    {
      "cell_type": "code",
      "metadata": {
        "colab": {
          "base_uri": "https://localhost:8080/"
        },
        "id": "3yzzyW1pwNp_",
        "outputId": "f144d812-8757-4b03-db2e-bd85e5042b9a"
      },
      "source": [
        "mat"
      ],
      "execution_count": 50,
      "outputs": [
        {
          "output_type": "execute_result",
          "data": {
            "text/plain": [
              "array([[ 0,  1,  2,  3,  4,  5,  6,  7,  8,  9],\n",
              "       [10, 11, 12, 13, 14, 15, 16, 17, 18, 19],\n",
              "       [20, 21, 22, 23, 24, 25, 26, 27, 28, 29],\n",
              "       [30, 31, 32, 33, 34, 35, 36, 37, 38, 39],\n",
              "       [40, 41, 42, 43, 44, 45, 46, 47, 48, 49],\n",
              "       [50, 51, 52, 53, 54, 55, 56, 57, 58, 59],\n",
              "       [60, 61, 62, 63, 64, 65, 66, 67, 68, 69],\n",
              "       [70, 71, 72, 73, 74, 75, 76, 77, 78, 79],\n",
              "       [80, 81, 82, 83, 84, 85, 86, 87, 88, 89],\n",
              "       [90, 91, 92, 93, 94, 95, 96, 97, 98, 99]])"
            ]
          },
          "metadata": {
            "tags": []
          },
          "execution_count": 50
        }
      ]
    },
    {
      "cell_type": "code",
      "metadata": {
        "colab": {
          "base_uri": "https://localhost:8080/"
        },
        "id": "977ryTZpwO_Z",
        "outputId": "552667fc-a002-4b71-a5c8-8076dda8e681"
      },
      "source": [
        "mat[0:3,0:3] #슬라이스"
      ],
      "execution_count": 54,
      "outputs": [
        {
          "output_type": "execute_result",
          "data": {
            "text/plain": [
              "array([[ 0,  1,  2],\n",
              "       [10, 11, 12],\n",
              "       [20, 21, 22]])"
            ]
          },
          "metadata": {
            "tags": []
          },
          "execution_count": 54
        }
      ]
    },
    {
      "cell_type": "code",
      "metadata": {
        "colab": {
          "base_uri": "https://localhost:8080/"
        },
        "id": "buPaodQWwV_Z",
        "outputId": "fa27fe54-a5e0-463b-a91e-d8250b15912d"
      },
      "source": [
        "mat[0:3,0:7] #슬라이스"
      ],
      "execution_count": 55,
      "outputs": [
        {
          "output_type": "execute_result",
          "data": {
            "text/plain": [
              "array([[ 0,  1,  2,  3,  4,  5,  6],\n",
              "       [10, 11, 12, 13, 14, 15, 16],\n",
              "       [20, 21, 22, 23, 24, 25, 26]])"
            ]
          },
          "metadata": {
            "tags": []
          },
          "execution_count": 55
        }
      ]
    },
    {
      "cell_type": "code",
      "metadata": {
        "id": "4Y9lJHQvwggS"
      },
      "source": [
        "mat[0:3,0:7]=0 #아래 출력결과 보기, 해당 배열을 0으로 수정"
      ],
      "execution_count": 56,
      "outputs": []
    },
    {
      "cell_type": "code",
      "metadata": {
        "colab": {
          "base_uri": "https://localhost:8080/"
        },
        "id": "wJOm0DaOwqKm",
        "outputId": "ce2efd9c-59fa-484c-dbab-57a5132aba44"
      },
      "source": [
        "mat"
      ],
      "execution_count": 57,
      "outputs": [
        {
          "output_type": "execute_result",
          "data": {
            "text/plain": [
              "array([[ 0,  0,  0,  0,  0,  0,  0,  7,  8,  9],\n",
              "       [ 0,  0,  0,  0,  0,  0,  0, 17, 18, 19],\n",
              "       [ 0,  0,  0,  0,  0,  0,  0, 27, 28, 29],\n",
              "       [30, 31, 32, 33, 34, 35, 36, 37, 38, 39],\n",
              "       [40, 41, 42, 43, 44, 45, 46, 47, 48, 49],\n",
              "       [50, 51, 52, 53, 54, 55, 56, 57, 58, 59],\n",
              "       [60, 61, 62, 63, 64, 65, 66, 67, 68, 69],\n",
              "       [70, 71, 72, 73, 74, 75, 76, 77, 78, 79],\n",
              "       [80, 81, 82, 83, 84, 85, 86, 87, 88, 89],\n",
              "       [90, 91, 92, 93, 94, 95, 96, 97, 98, 99]])"
            ]
          },
          "metadata": {
            "tags": []
          },
          "execution_count": 57
        }
      ]
    },
    {
      "cell_type": "code",
      "metadata": {
        "id": "krqpkEUpwqwW"
      },
      "source": [
        "mynewmat = mat.copy()"
      ],
      "execution_count": 58,
      "outputs": []
    },
    {
      "cell_type": "code",
      "metadata": {
        "id": "Xqgrxw1wwxZd"
      },
      "source": [
        "mynewmat[0:6,:] = 999 # 해당배열의값을 999로 변경"
      ],
      "execution_count": 60,
      "outputs": []
    },
    {
      "cell_type": "code",
      "metadata": {
        "colab": {
          "base_uri": "https://localhost:8080/"
        },
        "id": "AsFjwtVkw0Vx",
        "outputId": "0d83b1b4-21a1-42d8-de78-e75de47db8db"
      },
      "source": [
        "mynewmat"
      ],
      "execution_count": 61,
      "outputs": [
        {
          "output_type": "execute_result",
          "data": {
            "text/plain": [
              "array([[999, 999, 999, 999, 999, 999, 999, 999, 999, 999],\n",
              "       [999, 999, 999, 999, 999, 999, 999, 999, 999, 999],\n",
              "       [999, 999, 999, 999, 999, 999, 999, 999, 999, 999],\n",
              "       [999, 999, 999, 999, 999, 999, 999, 999, 999, 999],\n",
              "       [999, 999, 999, 999, 999, 999, 999, 999, 999, 999],\n",
              "       [999, 999, 999, 999, 999, 999, 999, 999, 999, 999],\n",
              "       [ 60,  61,  62,  63,  64,  65,  66,  67,  68,  69],\n",
              "       [ 70,  71,  72,  73,  74,  75,  76,  77,  78,  79],\n",
              "       [ 80,  81,  82,  83,  84,  85,  86,  87,  88,  89],\n",
              "       [ 90,  91,  92,  93,  94,  95,  96,  97,  98,  99]])"
            ]
          },
          "metadata": {
            "tags": []
          },
          "execution_count": 61
        }
      ]
    },
    {
      "cell_type": "code",
      "metadata": {
        "id": "pNSmCw4mw8dg"
      },
      "source": [
        ""
      ],
      "execution_count": null,
      "outputs": []
    }
  ]
}